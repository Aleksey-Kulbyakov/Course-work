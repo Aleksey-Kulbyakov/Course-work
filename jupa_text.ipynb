{
 "cells": [
  {
   "cell_type": "code",
   "execution_count": 16,
   "outputs": [],
   "source": [
    "import pandas as pd\n",
    "data_incart = pd.read_csv(\"MIT-BIH Arrhythmia Database.csv\",sep=',')\n",
    "data_choice = pd.DataFrame()\n",
    "for i in range(500,len(data_incart)):\n",
    "    if data_choice.shape[1] > 10:\n",
    "        break\n",
    "    if data_incart.loc[i].type == 'N':\n",
    "        data_choice = pd.concat([data_choice,data_incart.loc[i]],axis=1,ignore_index=True)\n",
    "\n",
    "\n",
    "for i in range(500,len(data_incart)):\n",
    "    if data_choice.shape[1] > 20:\n",
    "        break\n",
    "\n",
    "    if data_incart.loc[i].type == 'VEB':\n",
    "        data_choice = pd.concat([data_choice,data_incart.loc[i]],axis=1,ignore_index=True)\n",
    "\n",
    "for i in range(500,len(data_incart)):\n",
    "    if data_choice.shape[1] > 30:\n",
    "        break\n",
    "    if data_incart.loc[i].type == 'SVEB':\n",
    "        data_choice = pd.concat([data_choice,data_incart.loc[i]],axis=1,ignore_index=True)\n",
    "\n",
    "for i in range(500,len(data_incart)):\n",
    "    if data_choice.shape[1] > 40:\n",
    "        break\n",
    "    if data_incart.loc[i].type == 'F':\n",
    "        data_choice = pd.concat([data_choice,data_incart.loc[i]],axis=1,ignore_index=True)\n"
   ],
   "metadata": {
    "collapsed": false,
    "ExecuteTime": {
     "end_time": "2025-05-04T11:40:12.704384Z",
     "start_time": "2025-05-04T11:40:10.988104Z"
    }
   }
  },
  {
   "cell_type": "code",
   "execution_count": 9,
   "outputs": [
    {
     "data": {
      "text/plain": "(100689, 34)"
     },
     "execution_count": 9,
     "metadata": {},
     "output_type": "execute_result"
    }
   ],
   "source": [
    "data_incart.shape"
   ],
   "metadata": {
    "collapsed": false,
    "ExecuteTime": {
     "end_time": "2025-04-30T18:14:41.271977Z",
     "start_time": "2025-04-30T18:14:41.257713Z"
    }
   }
  },
  {
   "cell_type": "code",
   "execution_count": 17,
   "outputs": [],
   "source": [
    "import pandas as pd\n",
    "import numpy as np\n",
    "\n",
    "n_indices = data_incart[data_incart['type'] == 'N'].index\n",
    "\n",
    "rng = np.random.default_rng(seed=42)\n",
    "\n",
    "drop_indices = rng.choice(n_indices, size=len(n_indices) // 2, replace=False)\n",
    "\n",
    "df = data_incart.drop(index=drop_indices).reset_index(drop=True)"
   ],
   "metadata": {
    "collapsed": false,
    "ExecuteTime": {
     "end_time": "2025-05-04T11:40:15.917441Z",
     "start_time": "2025-05-04T11:40:15.883534Z"
    }
   }
  },
  {
   "cell_type": "code",
   "execution_count": 18,
   "outputs": [],
   "source": [
    "data_choice = data_choice.T"
   ],
   "metadata": {
    "collapsed": false,
    "ExecuteTime": {
     "end_time": "2025-05-04T11:40:17.945217Z",
     "start_time": "2025-05-04T11:40:17.930087Z"
    }
   }
  },
  {
   "cell_type": "code",
   "execution_count": 19,
   "outputs": [],
   "source": [
    "data_choice.drop(columns='record',axis=1,inplace=True)"
   ],
   "metadata": {
    "collapsed": false,
    "ExecuteTime": {
     "end_time": "2025-05-04T11:40:19.084899Z",
     "start_time": "2025-05-04T11:40:19.066308Z"
    }
   }
  },
  {
   "cell_type": "code",
   "execution_count": 20,
   "outputs": [
    {
     "data": {
      "text/plain": "type                     F\n0_pre-RR               397\n0_post-RR            284.0\n0_pPeak           0.093997\n0_tPeak           0.014295\n0_rPeak          -0.289838\n0_sPeak          -0.686746\n0_qPeak          -0.289838\n0_qrs_interval           5\n0_pq_interval            5\n0_qt_interval           21\n0_st_interval           11\n0_qrs_morph0     -0.289838\n0_qrs_morph1     -0.420912\n0_qrs_morph2     -0.536986\n0_qrs_morph3     -0.624866\n0_qrs_morph4     -0.675929\n1_pre-RR               397\n1_post-RR            284.0\n1_pPeak           0.475344\n1_tPeak          -0.076036\n1_rPeak           -0.36091\n1_sPeak          -0.690533\n1_qPeak           -0.36091\n1_qrs_interval           3\n1_pq_interval            6\n1_qt_interval           17\n1_st_interval            8\n1_qrs_morph0      -0.36091\n1_qrs_morph1      -0.36091\n1_qrs_morph2     -0.530005\n1_qrs_morph3     -0.530005\n1_qrs_morph4     -0.643416\nName: 40, dtype: object"
     },
     "execution_count": 20,
     "metadata": {},
     "output_type": "execute_result"
    }
   ],
   "source": [
    "data_choice.iloc[40]"
   ],
   "metadata": {
    "collapsed": false,
    "ExecuteTime": {
     "end_time": "2025-05-04T11:40:19.616769Z",
     "start_time": "2025-05-04T11:40:19.589959Z"
    }
   }
  },
  {
   "cell_type": "markdown",
   "source": [],
   "metadata": {
    "collapsed": false
   }
  },
  {
   "cell_type": "markdown",
   "source": [
    "### Local_Host"
   ],
   "metadata": {
    "collapsed": false
   }
  },
  {
   "cell_type": "code",
   "execution_count": 4,
   "outputs": [
    {
     "name": "stdout",
     "output_type": "stream",
     "text": [
      "\n",
      "\n",
      "📍 Обрабатываем строку 1/41 (Исходный индекс: 2, Реальный тип: N):\n"
     ]
    },
    {
     "ename": "JSONDecodeError",
     "evalue": "Expecting value: line 1 column 1 (char 0)",
     "output_type": "error",
     "traceback": [
      "\u001B[0;31m---------------------------------------------------------------------------\u001B[0m",
      "\u001B[0;31mJSONDecodeError\u001B[0m                           Traceback (most recent call last)",
      "Cell \u001B[0;32mIn[4], line 124\u001B[0m\n\u001B[1;32m    121\u001B[0m     \u001B[38;5;28mprint\u001B[39m(\u001B[38;5;124m\"\u001B[39m\u001B[38;5;130;01m\\n\u001B[39;00m\u001B[38;5;124m💾 Результаты сохранены в predictions_random.csv\u001B[39m\u001B[38;5;124m\"\u001B[39m)\n\u001B[1;32m    123\u001B[0m \u001B[38;5;28;01mif\u001B[39;00m \u001B[38;5;18m__name__\u001B[39m \u001B[38;5;241m==\u001B[39m \u001B[38;5;124m\"\u001B[39m\u001B[38;5;124m__main__\u001B[39m\u001B[38;5;124m\"\u001B[39m:\n\u001B[0;32m--> 124\u001B[0m     \u001B[43mmain\u001B[49m\u001B[43m(\u001B[49m\u001B[43m)\u001B[49m\n",
      "Cell \u001B[0;32mIn[4], line 96\u001B[0m, in \u001B[0;36mmain\u001B[0;34m()\u001B[0m\n\u001B[1;32m     62\u001B[0m prompt \u001B[38;5;241m=\u001B[39m (\n\u001B[1;32m     63\u001B[0m     \u001B[38;5;124mf\u001B[39m\u001B[38;5;124m\"\u001B[39m\u001B[38;5;124mYou are a highly specialized medical AI assistant, trained in cardiology with a focus on electrocardiogram (ECG) interpretation and arrhythmia classification. \u001B[39m\u001B[38;5;124m\"\u001B[39m\n\u001B[1;32m     64\u001B[0m     \u001B[38;5;124mf\u001B[39m\u001B[38;5;124m\"\u001B[39m\u001B[38;5;124mYour task is to analyze ECG features and determine the most likely heart rhythm category.\u001B[39m\u001B[38;5;130;01m\\n\u001B[39;00m\u001B[38;5;130;01m\\n\u001B[39;00m\u001B[38;5;124m\"\u001B[39m\n\u001B[0;32m   (...)\u001B[0m\n\u001B[1;32m     91\u001B[0m     \u001B[38;5;124mf\u001B[39m\u001B[38;5;124m\"\u001B[39m\u001B[38;5;124mECG data:\u001B[39m\u001B[38;5;130;01m\\n\u001B[39;00m\u001B[38;5;132;01m{\u001B[39;00mecg_values\u001B[38;5;132;01m}\u001B[39;00m\u001B[38;5;124m\"\u001B[39m\n\u001B[1;32m     92\u001B[0m )\n\u001B[1;32m     95\u001B[0m \u001B[38;5;28mprint\u001B[39m(\u001B[38;5;124mf\u001B[39m\u001B[38;5;124m\"\u001B[39m\u001B[38;5;130;01m\\n\u001B[39;00m\u001B[38;5;130;01m\\n\u001B[39;00m\u001B[38;5;124m📍 Обрабатываем строку \u001B[39m\u001B[38;5;132;01m{\u001B[39;00mi\u001B[38;5;241m+\u001B[39m\u001B[38;5;241m1\u001B[39m\u001B[38;5;132;01m}\u001B[39;00m\u001B[38;5;124m/\u001B[39m\u001B[38;5;132;01m{\u001B[39;00m\u001B[38;5;28mlen\u001B[39m(random_indices)\u001B[38;5;132;01m}\u001B[39;00m\u001B[38;5;124m (Исходный индекс: \u001B[39m\u001B[38;5;132;01m{\u001B[39;00mrow_idx\u001B[38;5;132;01m}\u001B[39;00m\u001B[38;5;124m, Реальный тип: \u001B[39m\u001B[38;5;132;01m{\u001B[39;00mactual_type\u001B[38;5;132;01m}\u001B[39;00m\u001B[38;5;124m):\u001B[39m\u001B[38;5;124m\"\u001B[39m)\n\u001B[0;32m---> 96\u001B[0m context, result \u001B[38;5;241m=\u001B[39m \u001B[43mgenerate\u001B[49m\u001B[43m(\u001B[49m\u001B[43mprompt\u001B[49m\u001B[43m,\u001B[49m\u001B[43m \u001B[49m\u001B[43mcontext\u001B[49m\u001B[43m)\u001B[49m\n\u001B[1;32m     98\u001B[0m \u001B[38;5;28;01mif\u001B[39;00m \u001B[38;5;124m\"\u001B[39m\u001B[38;5;124mAnswer:\u001B[39m\u001B[38;5;124m\"\u001B[39m \u001B[38;5;129;01min\u001B[39;00m result:\n\u001B[1;32m     99\u001B[0m     label \u001B[38;5;241m=\u001B[39m result\u001B[38;5;241m.\u001B[39msplit(\u001B[38;5;124m\"\u001B[39m\u001B[38;5;124mAnswer:\u001B[39m\u001B[38;5;124m\"\u001B[39m)[\u001B[38;5;241m-\u001B[39m\u001B[38;5;241m1\u001B[39m]\u001B[38;5;241m.\u001B[39mstrip()\n",
      "Cell \u001B[0;32mIn[4], line 30\u001B[0m, in \u001B[0;36mgenerate\u001B[0;34m(prompt, context)\u001B[0m\n\u001B[1;32m     28\u001B[0m full_response \u001B[38;5;241m=\u001B[39m \u001B[38;5;124m\"\u001B[39m\u001B[38;5;124m\"\u001B[39m\n\u001B[1;32m     29\u001B[0m \u001B[38;5;28;01mfor\u001B[39;00m line \u001B[38;5;129;01min\u001B[39;00m r\u001B[38;5;241m.\u001B[39miter_lines():\n\u001B[0;32m---> 30\u001B[0m     body \u001B[38;5;241m=\u001B[39m \u001B[43mjson\u001B[49m\u001B[38;5;241;43m.\u001B[39;49m\u001B[43mloads\u001B[49m\u001B[43m(\u001B[49m\u001B[43mline\u001B[49m\u001B[43m)\u001B[49m\n\u001B[1;32m     31\u001B[0m     response_part \u001B[38;5;241m=\u001B[39m body\u001B[38;5;241m.\u001B[39mget(\u001B[38;5;124m'\u001B[39m\u001B[38;5;124mresponse\u001B[39m\u001B[38;5;124m'\u001B[39m, \u001B[38;5;124m'\u001B[39m\u001B[38;5;124m'\u001B[39m)\n\u001B[1;32m     32\u001B[0m     full_response \u001B[38;5;241m+\u001B[39m\u001B[38;5;241m=\u001B[39m response_part\n",
      "File \u001B[0;32m/Library/Frameworks/Python.framework/Versions/3.10/lib/python3.10/json/__init__.py:346\u001B[0m, in \u001B[0;36mloads\u001B[0;34m(s, cls, object_hook, parse_float, parse_int, parse_constant, object_pairs_hook, **kw)\u001B[0m\n\u001B[1;32m    341\u001B[0m     s \u001B[38;5;241m=\u001B[39m s\u001B[38;5;241m.\u001B[39mdecode(detect_encoding(s), \u001B[38;5;124m'\u001B[39m\u001B[38;5;124msurrogatepass\u001B[39m\u001B[38;5;124m'\u001B[39m)\n\u001B[1;32m    343\u001B[0m \u001B[38;5;28;01mif\u001B[39;00m (\u001B[38;5;28mcls\u001B[39m \u001B[38;5;129;01mis\u001B[39;00m \u001B[38;5;28;01mNone\u001B[39;00m \u001B[38;5;129;01mand\u001B[39;00m object_hook \u001B[38;5;129;01mis\u001B[39;00m \u001B[38;5;28;01mNone\u001B[39;00m \u001B[38;5;129;01mand\u001B[39;00m\n\u001B[1;32m    344\u001B[0m         parse_int \u001B[38;5;129;01mis\u001B[39;00m \u001B[38;5;28;01mNone\u001B[39;00m \u001B[38;5;129;01mand\u001B[39;00m parse_float \u001B[38;5;129;01mis\u001B[39;00m \u001B[38;5;28;01mNone\u001B[39;00m \u001B[38;5;129;01mand\u001B[39;00m\n\u001B[1;32m    345\u001B[0m         parse_constant \u001B[38;5;129;01mis\u001B[39;00m \u001B[38;5;28;01mNone\u001B[39;00m \u001B[38;5;129;01mand\u001B[39;00m object_pairs_hook \u001B[38;5;129;01mis\u001B[39;00m \u001B[38;5;28;01mNone\u001B[39;00m \u001B[38;5;129;01mand\u001B[39;00m \u001B[38;5;129;01mnot\u001B[39;00m kw):\n\u001B[0;32m--> 346\u001B[0m     \u001B[38;5;28;01mreturn\u001B[39;00m \u001B[43m_default_decoder\u001B[49m\u001B[38;5;241;43m.\u001B[39;49m\u001B[43mdecode\u001B[49m\u001B[43m(\u001B[49m\u001B[43ms\u001B[49m\u001B[43m)\u001B[49m\n\u001B[1;32m    347\u001B[0m \u001B[38;5;28;01mif\u001B[39;00m \u001B[38;5;28mcls\u001B[39m \u001B[38;5;129;01mis\u001B[39;00m \u001B[38;5;28;01mNone\u001B[39;00m:\n\u001B[1;32m    348\u001B[0m     \u001B[38;5;28mcls\u001B[39m \u001B[38;5;241m=\u001B[39m JSONDecoder\n",
      "File \u001B[0;32m/Library/Frameworks/Python.framework/Versions/3.10/lib/python3.10/json/decoder.py:337\u001B[0m, in \u001B[0;36mJSONDecoder.decode\u001B[0;34m(self, s, _w)\u001B[0m\n\u001B[1;32m    332\u001B[0m \u001B[38;5;28;01mdef\u001B[39;00m\u001B[38;5;250m \u001B[39m\u001B[38;5;21mdecode\u001B[39m(\u001B[38;5;28mself\u001B[39m, s, _w\u001B[38;5;241m=\u001B[39mWHITESPACE\u001B[38;5;241m.\u001B[39mmatch):\n\u001B[1;32m    333\u001B[0m \u001B[38;5;250m    \u001B[39m\u001B[38;5;124;03m\"\"\"Return the Python representation of ``s`` (a ``str`` instance\u001B[39;00m\n\u001B[1;32m    334\u001B[0m \u001B[38;5;124;03m    containing a JSON document).\u001B[39;00m\n\u001B[1;32m    335\u001B[0m \n\u001B[1;32m    336\u001B[0m \u001B[38;5;124;03m    \"\"\"\u001B[39;00m\n\u001B[0;32m--> 337\u001B[0m     obj, end \u001B[38;5;241m=\u001B[39m \u001B[38;5;28;43mself\u001B[39;49m\u001B[38;5;241;43m.\u001B[39;49m\u001B[43mraw_decode\u001B[49m\u001B[43m(\u001B[49m\u001B[43ms\u001B[49m\u001B[43m,\u001B[49m\u001B[43m \u001B[49m\u001B[43midx\u001B[49m\u001B[38;5;241;43m=\u001B[39;49m\u001B[43m_w\u001B[49m\u001B[43m(\u001B[49m\u001B[43ms\u001B[49m\u001B[43m,\u001B[49m\u001B[43m \u001B[49m\u001B[38;5;241;43m0\u001B[39;49m\u001B[43m)\u001B[49m\u001B[38;5;241;43m.\u001B[39;49m\u001B[43mend\u001B[49m\u001B[43m(\u001B[49m\u001B[43m)\u001B[49m\u001B[43m)\u001B[49m\n\u001B[1;32m    338\u001B[0m     end \u001B[38;5;241m=\u001B[39m _w(s, end)\u001B[38;5;241m.\u001B[39mend()\n\u001B[1;32m    339\u001B[0m     \u001B[38;5;28;01mif\u001B[39;00m end \u001B[38;5;241m!=\u001B[39m \u001B[38;5;28mlen\u001B[39m(s):\n",
      "File \u001B[0;32m/Library/Frameworks/Python.framework/Versions/3.10/lib/python3.10/json/decoder.py:355\u001B[0m, in \u001B[0;36mJSONDecoder.raw_decode\u001B[0;34m(self, s, idx)\u001B[0m\n\u001B[1;32m    353\u001B[0m     obj, end \u001B[38;5;241m=\u001B[39m \u001B[38;5;28mself\u001B[39m\u001B[38;5;241m.\u001B[39mscan_once(s, idx)\n\u001B[1;32m    354\u001B[0m \u001B[38;5;28;01mexcept\u001B[39;00m \u001B[38;5;167;01mStopIteration\u001B[39;00m \u001B[38;5;28;01mas\u001B[39;00m err:\n\u001B[0;32m--> 355\u001B[0m     \u001B[38;5;28;01mraise\u001B[39;00m JSONDecodeError(\u001B[38;5;124m\"\u001B[39m\u001B[38;5;124mExpecting value\u001B[39m\u001B[38;5;124m\"\u001B[39m, s, err\u001B[38;5;241m.\u001B[39mvalue) \u001B[38;5;28;01mfrom\u001B[39;00m\u001B[38;5;250m \u001B[39m\u001B[38;5;28;01mNone\u001B[39;00m\n\u001B[1;32m    356\u001B[0m \u001B[38;5;28;01mreturn\u001B[39;00m obj, end\n",
      "\u001B[0;31mJSONDecodeError\u001B[0m: Expecting value: line 1 column 1 (char 0)"
     ]
    }
   ],
   "source": [
    "import json\n",
    "import requests\n",
    "import pandas as pd\n",
    "from collections import Counter\n",
    "import random\n",
    "\n",
    "model = 'deepseek-r1:7b'\n",
    "\n",
    "def generate(prompt, context):\n",
    "    r = requests.post(\n",
    "        'http://localhost:11434/api/generate',\n",
    "        json={\n",
    "            'model': model,\n",
    "            'prompt': prompt,\n",
    "            'context': context,\n",
    "            \"temperature\": 1\n",
    "        },\n",
    "        stream=True\n",
    "    )\n",
    "    r.raise_for_status()\n",
    "\n",
    "    full_response = \"\"\n",
    "    for line in r.iter_lines():\n",
    "        body = json.loads(line)\n",
    "        response_part = body.get('response', '')\n",
    "        full_response += response_part\n",
    "        print(response_part, end='', flush=True)\n",
    "\n",
    "        if 'error' in body:\n",
    "            raise Exception(body['error'])\n",
    "\n",
    "        if body.get('done', False):\n",
    "            return body['context'], full_response.strip()\n",
    "\n",
    "def main():\n",
    "\n",
    "    predictions = []\n",
    "\n",
    "    random_indices = random.sample(range(len(data_choice)), min(50, len(data_choice)))\n",
    "\n",
    "    for i, row_idx in enumerate(random_indices):\n",
    "        data_choice_without_type = data_choice.drop(['type'],axis=1)\n",
    "        ecg_values = data_choice_without_type.loc[row_idx].tolist()\n",
    "        actual_type = data_choice.loc[row_idx, 'type']\n",
    "        context = []\n",
    "        # prompt = (\n",
    "        #     # f\"You are working with the ECG Arrhythmia Classification Dataset, which contains ECG (electrocardiogram) recordings used to classify different types of heart rhythms. Each sample consists of a sequence of ECG amplitude values.\"\n",
    "        #     f\"You working with the ECG Arrhythmia Classification Dataset, which contains features extracted two-lead ECG signal (lead II, V) from the MIT-BIH Arrhythmia dataset (Physionet). In addition, we have programmatically extracted relevant features from ECG signals to classify regular/irregular heartbeats.\"\n",
    "        #     f\"The dataset includes the following rhythm classes:\"\n",
    "        #     f\"N – Normal rhythm, SVEB – Supraventricular ectopic beat, VEB – Ventricular ectopic beat, F – Fusion beat, Q – Unknown beat\"\n",
    "        #     f\"The remaining 32 columns contain 17 features for each ECG lead (17 features for lead-II and 17 features for lead-V5)\"\n",
    "        #     # f\"In some cases, the input may also include RR intervals — these are the time durations between successive R-peaks in the ECG signal\"\n",
    "        #     f\"Given the ECG signal data below, classify it into one of the five rhythm classes listed above. ECG data: {ecg_values} Respond with only the predicted class in the following format: Answer: <class>\"\n",
    "        # )\n",
    "        prompt = (\n",
    "            f\"You are a highly specialized medical AI assistant, trained in cardiology with a focus on electrocardiogram (ECG) interpretation and arrhythmia classification. \"\n",
    "            f\"Your task is to analyze ECG features and determine the most likely heart rhythm category.\\n\\n\"\n",
    "\n",
    "            f\"The ECG Arrhythmia Classification Dataset you are working with is based on recordings from the MIT-BIH Arrhythmia database (via PhysioNet). \"\n",
    "            f\"Each sample includes features extracted from two ECG leads: Lead II and Lead V5. For each lead, 17 diagnostic features have been extracted, totaling 34 features per sample.\\n\\n\"\n",
    "\n",
    "            f\"The goal is to classify the heartbeat into one of the following rhythm classes:\\n\"\n",
    "            f\"- N: Normal rhythm\\n\"\n",
    "            f\"- SVEB: Supraventricular ectopic beat\\n\"\n",
    "            f\"- VEB: Ventricular ectopic beat\\n\"\n",
    "            f\"- F: Fusion beat\\n\"\n",
    "            f\"Features are organized into the following groups:\\n\"\n",
    "            f\"1. **RR Intervals**:\\n\"\n",
    "            f\"   - *Average RR*: Mean time between R peaks over a window\\n\"\n",
    "            f\"   - *RR*: Time between the current and previous R peaks\\n\"\n",
    "            f\"   - *Post RR*: Time between the current and next R peaks\\n\"\n",
    "            f\"2. **Heartbeat Interval Features**:\\n\"\n",
    "            f\"   - *PQ Interval*: Time between the start of the P wave and start of the QRS complex\\n\"\n",
    "            f\"   - *QT Interval*: Duration from the start of Q to the end of T wave\\n\"\n",
    "            f\"   - *ST Interval*: Time from end of QRS complex to end of T wave\\n\"\n",
    "            f\"   - *QRS Duration*: Duration of the QRS complex\\n\"\n",
    "            f\"3. **Heart Beats Amplitude Features**:\\n\"\n",
    "            f\"   - *P, Q, R, S, T peaks*: Amplitude of corresponding waveform peaks\\n\"\n",
    "            f\"4. **Morphology Features**:\\n\"\n",
    "            f\"   - *QRS morph features 0-4*: Represent shape and structure of the QRS complex in fine detail\\n\\n\"\n",
    "\n",
    "            f\"Based on the ECG feature values below, determine the most likely rhythm class. \"\n",
    "            f\"Return only the predicted class in the format: Answer: <class>\\n\\n\"\n",
    "            f\"ECG data:\\n{ecg_values}\"\n",
    "        )\n",
    "\n",
    "\n",
    "        print(f\"\\n\\n📍 Обрабатываем строку {i+1}/{len(random_indices)} (Исходный индекс: {row_idx}, Реальный тип: {actual_type}):\")\n",
    "        context, result = generate(prompt, context)\n",
    "\n",
    "        if \"Answer:\" in result:\n",
    "            label = result.split(\"Answer:\")[-1].strip()\n",
    "        else:\n",
    "            label = \"unknown\"\n",
    "\n",
    "        predictions.append({\n",
    "            \"index\": row_idx,\n",
    "            \"actual_type\": actual_type,\n",
    "            \"prediction\": label,\n",
    "        })\n",
    "\n",
    "        if i == 49:  # Ограничиваем 50 итерациями\n",
    "            break\n",
    "\n",
    "    # Подсчёт классов\n",
    "    class_counts = Counter([p[\"prediction\"] for p in predictions])\n",
    "    print(\"\\n\\n🔢 Статистика по предсказанным классам:\")\n",
    "    for label, count in class_counts.items():\n",
    "        print(f\"Класс {label}: {count} примеров\")\n",
    "\n",
    "    # Сохраняем в файл\n",
    "    df_predictions = pd.DataFrame(predictions)\n",
    "    df_predictions.to_csv(\"predictions_random2.csv\", index=False)\n",
    "    print(\"\\n💾 Результаты сохранены в predictions_random.csv\")\n",
    "\n",
    "if __name__ == \"__main__\":\n",
    "    main()"
   ],
   "metadata": {
    "collapsed": false,
    "ExecuteTime": {
     "end_time": "2025-04-27T13:20:28.370476Z",
     "start_time": "2025-04-27T13:20:26.930881Z"
    }
   }
  },
  {
   "cell_type": "markdown",
   "source": [
    "### API OPEN ROUTER"
   ],
   "metadata": {
    "collapsed": false
   }
  },
  {
   "cell_type": "code",
   "execution_count": 25,
   "outputs": [
    {
     "name": "stdout",
     "output_type": "stream",
     "text": [
      "\n",
      "\n",
      "📍 Обрабатываем строку 1/41 (Исходный индекс: 19, Реальный тип: VEB):\n",
      "Answer: VEB\n",
      "\n",
      "\n",
      "📍 Обрабатываем строку 2/41 (Исходный индекс: 29, Реальный тип: SVEB):\n",
      "Answer: VEB\n",
      "\n",
      "\n",
      "📍 Обрабатываем строку 3/41 (Исходный индекс: 37, Реальный тип: F):\n"
     ]
    },
    {
     "ename": "KeyboardInterrupt",
     "evalue": "",
     "output_type": "error",
     "traceback": [
      "\u001B[0;31m---------------------------------------------------------------------------\u001B[0m",
      "\u001B[0;31mKeyboardInterrupt\u001B[0m                         Traceback (most recent call last)",
      "Cell \u001B[0;32mIn[25], line 130\u001B[0m\n\u001B[1;32m    127\u001B[0m     \u001B[38;5;28mprint\u001B[39m(\u001B[38;5;124m\"\u001B[39m\u001B[38;5;130;01m\\n\u001B[39;00m\u001B[38;5;124m💾 Результаты сохранены в predictions_random.csv\u001B[39m\u001B[38;5;124m\"\u001B[39m)\n\u001B[1;32m    129\u001B[0m \u001B[38;5;28;01mif\u001B[39;00m \u001B[38;5;18m__name__\u001B[39m \u001B[38;5;241m==\u001B[39m \u001B[38;5;124m\"\u001B[39m\u001B[38;5;124m__main__\u001B[39m\u001B[38;5;124m\"\u001B[39m:\n\u001B[0;32m--> 130\u001B[0m     \u001B[43mmain\u001B[49m\u001B[43m(\u001B[49m\u001B[43m)\u001B[49m\n",
      "Cell \u001B[0;32mIn[25], line 102\u001B[0m, in \u001B[0;36mmain\u001B[0;34m()\u001B[0m\n\u001B[1;32m     69\u001B[0m prompt \u001B[38;5;241m=\u001B[39m (\n\u001B[1;32m     70\u001B[0m     \u001B[38;5;124mf\u001B[39m\u001B[38;5;124m\"\u001B[39m\u001B[38;5;124mYou are a highly specialized medical AI assistant, trained in cardiology with a focus on electrocardiogram (ECG) interpretation and arrhythmia classification. \u001B[39m\u001B[38;5;124m\"\u001B[39m\n\u001B[1;32m     71\u001B[0m     \u001B[38;5;124mf\u001B[39m\u001B[38;5;124m\"\u001B[39m\u001B[38;5;124mYour task is to analyze ECG features and determine the most likely heart rhythm category.\u001B[39m\u001B[38;5;130;01m\\n\u001B[39;00m\u001B[38;5;130;01m\\n\u001B[39;00m\u001B[38;5;124m\"\u001B[39m\n\u001B[0;32m   (...)\u001B[0m\n\u001B[1;32m     98\u001B[0m     \u001B[38;5;124mf\u001B[39m\u001B[38;5;124m\"\u001B[39m\u001B[38;5;124mECG data:\u001B[39m\u001B[38;5;130;01m\\n\u001B[39;00m\u001B[38;5;132;01m{\u001B[39;00mecg_values\u001B[38;5;132;01m}\u001B[39;00m\u001B[38;5;124m\"\u001B[39m\n\u001B[1;32m     99\u001B[0m )\n\u001B[1;32m    101\u001B[0m \u001B[38;5;28mprint\u001B[39m(\u001B[38;5;124mf\u001B[39m\u001B[38;5;124m\"\u001B[39m\u001B[38;5;130;01m\\n\u001B[39;00m\u001B[38;5;130;01m\\n\u001B[39;00m\u001B[38;5;124m📍 Обрабатываем строку \u001B[39m\u001B[38;5;132;01m{\u001B[39;00mi\u001B[38;5;241m+\u001B[39m\u001B[38;5;241m1\u001B[39m\u001B[38;5;132;01m}\u001B[39;00m\u001B[38;5;124m/\u001B[39m\u001B[38;5;132;01m{\u001B[39;00m\u001B[38;5;28mlen\u001B[39m(random_indices)\u001B[38;5;132;01m}\u001B[39;00m\u001B[38;5;124m (Исходный индекс: \u001B[39m\u001B[38;5;132;01m{\u001B[39;00mrow_idx\u001B[38;5;132;01m}\u001B[39;00m\u001B[38;5;124m, Реальный тип: \u001B[39m\u001B[38;5;132;01m{\u001B[39;00mactual_type\u001B[38;5;132;01m}\u001B[39;00m\u001B[38;5;124m):\u001B[39m\u001B[38;5;124m\"\u001B[39m)\n\u001B[0;32m--> 102\u001B[0m result \u001B[38;5;241m=\u001B[39m \u001B[43mchat_stream\u001B[49m\u001B[43m(\u001B[49m\u001B[43mprompt\u001B[49m\u001B[43m)\u001B[49m\n\u001B[1;32m    104\u001B[0m \u001B[38;5;28;01mif\u001B[39;00m \u001B[38;5;124m\"\u001B[39m\u001B[38;5;124mAnswer:\u001B[39m\u001B[38;5;124m\"\u001B[39m \u001B[38;5;129;01min\u001B[39;00m result:\n\u001B[1;32m    105\u001B[0m     label \u001B[38;5;241m=\u001B[39m result\u001B[38;5;241m.\u001B[39msplit(\u001B[38;5;124m\"\u001B[39m\u001B[38;5;124mAnswer:\u001B[39m\u001B[38;5;124m\"\u001B[39m)[\u001B[38;5;241m-\u001B[39m\u001B[38;5;241m1\u001B[39m]\u001B[38;5;241m.\u001B[39mstrip()\n",
      "Cell \u001B[0;32mIn[25], line 40\u001B[0m, in \u001B[0;36mchat_stream\u001B[0;34m(prompt)\u001B[0m\n\u001B[1;32m     37\u001B[0m full_response \u001B[38;5;241m=\u001B[39m []\n\u001B[1;32m     39\u001B[0m \u001B[38;5;66;03m# Обработка ответа построчно\u001B[39;00m\n\u001B[0;32m---> 40\u001B[0m \u001B[38;5;28;01mfor\u001B[39;00m chunk \u001B[38;5;129;01min\u001B[39;00m response\u001B[38;5;241m.\u001B[39miter_lines():\n\u001B[1;32m     41\u001B[0m     \u001B[38;5;28;01mif\u001B[39;00m chunk:\n\u001B[1;32m     42\u001B[0m         chunk_str \u001B[38;5;241m=\u001B[39m chunk\u001B[38;5;241m.\u001B[39mdecode(\u001B[38;5;124m'\u001B[39m\u001B[38;5;124mutf-8\u001B[39m\u001B[38;5;124m'\u001B[39m)\u001B[38;5;241m.\u001B[39mreplace(\u001B[38;5;124m'\u001B[39m\u001B[38;5;124mdata: \u001B[39m\u001B[38;5;124m'\u001B[39m, \u001B[38;5;124m'\u001B[39m\u001B[38;5;124m'\u001B[39m)\n",
      "File \u001B[0;32m~/PycharmProjects/pythonProjects/venv/lib/python3.10/site-packages/requests/models.py:869\u001B[0m, in \u001B[0;36mResponse.iter_lines\u001B[0;34m(self, chunk_size, decode_unicode, delimiter)\u001B[0m\n\u001B[1;32m    860\u001B[0m \u001B[38;5;250m\u001B[39m\u001B[38;5;124;03m\"\"\"Iterates over the response data, one line at a time.  When\u001B[39;00m\n\u001B[1;32m    861\u001B[0m \u001B[38;5;124;03mstream=True is set on the request, this avoids reading the\u001B[39;00m\n\u001B[1;32m    862\u001B[0m \u001B[38;5;124;03mcontent at once into memory for large responses.\u001B[39;00m\n\u001B[1;32m    863\u001B[0m \n\u001B[1;32m    864\u001B[0m \u001B[38;5;124;03m.. note:: This method is not reentrant safe.\u001B[39;00m\n\u001B[1;32m    865\u001B[0m \u001B[38;5;124;03m\"\"\"\u001B[39;00m\n\u001B[1;32m    867\u001B[0m pending \u001B[38;5;241m=\u001B[39m \u001B[38;5;28;01mNone\u001B[39;00m\n\u001B[0;32m--> 869\u001B[0m \u001B[38;5;28;01mfor\u001B[39;00m chunk \u001B[38;5;129;01min\u001B[39;00m \u001B[38;5;28mself\u001B[39m\u001B[38;5;241m.\u001B[39miter_content(\n\u001B[1;32m    870\u001B[0m     chunk_size\u001B[38;5;241m=\u001B[39mchunk_size, decode_unicode\u001B[38;5;241m=\u001B[39mdecode_unicode\n\u001B[1;32m    871\u001B[0m ):\n\u001B[1;32m    872\u001B[0m     \u001B[38;5;28;01mif\u001B[39;00m pending \u001B[38;5;129;01mis\u001B[39;00m \u001B[38;5;129;01mnot\u001B[39;00m \u001B[38;5;28;01mNone\u001B[39;00m:\n\u001B[1;32m    873\u001B[0m         chunk \u001B[38;5;241m=\u001B[39m pending \u001B[38;5;241m+\u001B[39m chunk\n",
      "File \u001B[0;32m~/PycharmProjects/pythonProjects/venv/lib/python3.10/site-packages/requests/models.py:820\u001B[0m, in \u001B[0;36mResponse.iter_content.<locals>.generate\u001B[0;34m()\u001B[0m\n\u001B[1;32m    818\u001B[0m \u001B[38;5;28;01mif\u001B[39;00m \u001B[38;5;28mhasattr\u001B[39m(\u001B[38;5;28mself\u001B[39m\u001B[38;5;241m.\u001B[39mraw, \u001B[38;5;124m\"\u001B[39m\u001B[38;5;124mstream\u001B[39m\u001B[38;5;124m\"\u001B[39m):\n\u001B[1;32m    819\u001B[0m     \u001B[38;5;28;01mtry\u001B[39;00m:\n\u001B[0;32m--> 820\u001B[0m         \u001B[38;5;28;01myield from\u001B[39;00m \u001B[38;5;28mself\u001B[39m\u001B[38;5;241m.\u001B[39mraw\u001B[38;5;241m.\u001B[39mstream(chunk_size, decode_content\u001B[38;5;241m=\u001B[39m\u001B[38;5;28;01mTrue\u001B[39;00m)\n\u001B[1;32m    821\u001B[0m     \u001B[38;5;28;01mexcept\u001B[39;00m ProtocolError \u001B[38;5;28;01mas\u001B[39;00m e:\n\u001B[1;32m    822\u001B[0m         \u001B[38;5;28;01mraise\u001B[39;00m ChunkedEncodingError(e)\n",
      "File \u001B[0;32m~/PycharmProjects/pythonProjects/venv/lib/python3.10/site-packages/urllib3/response.py:1063\u001B[0m, in \u001B[0;36mHTTPResponse.stream\u001B[0;34m(self, amt, decode_content)\u001B[0m\n\u001B[1;32m   1047\u001B[0m \u001B[38;5;250m\u001B[39m\u001B[38;5;124;03m\"\"\"\u001B[39;00m\n\u001B[1;32m   1048\u001B[0m \u001B[38;5;124;03mA generator wrapper for the read() method. A call will block until\u001B[39;00m\n\u001B[1;32m   1049\u001B[0m \u001B[38;5;124;03m``amt`` bytes have been read from the connection or until the\u001B[39;00m\n\u001B[0;32m   (...)\u001B[0m\n\u001B[1;32m   1060\u001B[0m \u001B[38;5;124;03m    'content-encoding' header.\u001B[39;00m\n\u001B[1;32m   1061\u001B[0m \u001B[38;5;124;03m\"\"\"\u001B[39;00m\n\u001B[1;32m   1062\u001B[0m \u001B[38;5;28;01mif\u001B[39;00m \u001B[38;5;28mself\u001B[39m\u001B[38;5;241m.\u001B[39mchunked \u001B[38;5;129;01mand\u001B[39;00m \u001B[38;5;28mself\u001B[39m\u001B[38;5;241m.\u001B[39msupports_chunked_reads():\n\u001B[0;32m-> 1063\u001B[0m     \u001B[38;5;28;01myield from\u001B[39;00m \u001B[38;5;28mself\u001B[39m\u001B[38;5;241m.\u001B[39mread_chunked(amt, decode_content\u001B[38;5;241m=\u001B[39mdecode_content)\n\u001B[1;32m   1064\u001B[0m \u001B[38;5;28;01melse\u001B[39;00m:\n\u001B[1;32m   1065\u001B[0m     \u001B[38;5;28;01mwhile\u001B[39;00m \u001B[38;5;129;01mnot\u001B[39;00m is_fp_closed(\u001B[38;5;28mself\u001B[39m\u001B[38;5;241m.\u001B[39m_fp) \u001B[38;5;129;01mor\u001B[39;00m \u001B[38;5;28mlen\u001B[39m(\u001B[38;5;28mself\u001B[39m\u001B[38;5;241m.\u001B[39m_decoded_buffer) \u001B[38;5;241m>\u001B[39m \u001B[38;5;241m0\u001B[39m:\n",
      "File \u001B[0;32m~/PycharmProjects/pythonProjects/venv/lib/python3.10/site-packages/urllib3/response.py:1219\u001B[0m, in \u001B[0;36mHTTPResponse.read_chunked\u001B[0;34m(self, amt, decode_content)\u001B[0m\n\u001B[1;32m   1216\u001B[0m     amt \u001B[38;5;241m=\u001B[39m \u001B[38;5;28;01mNone\u001B[39;00m\n\u001B[1;32m   1218\u001B[0m \u001B[38;5;28;01mwhile\u001B[39;00m \u001B[38;5;28;01mTrue\u001B[39;00m:\n\u001B[0;32m-> 1219\u001B[0m     \u001B[38;5;28;43mself\u001B[39;49m\u001B[38;5;241;43m.\u001B[39;49m\u001B[43m_update_chunk_length\u001B[49m\u001B[43m(\u001B[49m\u001B[43m)\u001B[49m\n\u001B[1;32m   1220\u001B[0m     \u001B[38;5;28;01mif\u001B[39;00m \u001B[38;5;28mself\u001B[39m\u001B[38;5;241m.\u001B[39mchunk_left \u001B[38;5;241m==\u001B[39m \u001B[38;5;241m0\u001B[39m:\n\u001B[1;32m   1221\u001B[0m         \u001B[38;5;28;01mbreak\u001B[39;00m\n",
      "File \u001B[0;32m~/PycharmProjects/pythonProjects/venv/lib/python3.10/site-packages/urllib3/response.py:1138\u001B[0m, in \u001B[0;36mHTTPResponse._update_chunk_length\u001B[0;34m(self)\u001B[0m\n\u001B[1;32m   1136\u001B[0m \u001B[38;5;28;01mif\u001B[39;00m \u001B[38;5;28mself\u001B[39m\u001B[38;5;241m.\u001B[39mchunk_left \u001B[38;5;129;01mis\u001B[39;00m \u001B[38;5;129;01mnot\u001B[39;00m \u001B[38;5;28;01mNone\u001B[39;00m:\n\u001B[1;32m   1137\u001B[0m     \u001B[38;5;28;01mreturn\u001B[39;00m \u001B[38;5;28;01mNone\u001B[39;00m\n\u001B[0;32m-> 1138\u001B[0m line \u001B[38;5;241m=\u001B[39m \u001B[38;5;28;43mself\u001B[39;49m\u001B[38;5;241;43m.\u001B[39;49m\u001B[43m_fp\u001B[49m\u001B[38;5;241;43m.\u001B[39;49m\u001B[43mfp\u001B[49m\u001B[38;5;241;43m.\u001B[39;49m\u001B[43mreadline\u001B[49m\u001B[43m(\u001B[49m\u001B[43m)\u001B[49m  \u001B[38;5;66;03m# type: ignore[union-attr]\u001B[39;00m\n\u001B[1;32m   1139\u001B[0m line \u001B[38;5;241m=\u001B[39m line\u001B[38;5;241m.\u001B[39msplit(\u001B[38;5;124mb\u001B[39m\u001B[38;5;124m\"\u001B[39m\u001B[38;5;124m;\u001B[39m\u001B[38;5;124m\"\u001B[39m, \u001B[38;5;241m1\u001B[39m)[\u001B[38;5;241m0\u001B[39m]\n\u001B[1;32m   1140\u001B[0m \u001B[38;5;28;01mtry\u001B[39;00m:\n",
      "File \u001B[0;32m/Library/Frameworks/Python.framework/Versions/3.10/lib/python3.10/socket.py:705\u001B[0m, in \u001B[0;36mSocketIO.readinto\u001B[0;34m(self, b)\u001B[0m\n\u001B[1;32m    703\u001B[0m \u001B[38;5;28;01mwhile\u001B[39;00m \u001B[38;5;28;01mTrue\u001B[39;00m:\n\u001B[1;32m    704\u001B[0m     \u001B[38;5;28;01mtry\u001B[39;00m:\n\u001B[0;32m--> 705\u001B[0m         \u001B[38;5;28;01mreturn\u001B[39;00m \u001B[38;5;28;43mself\u001B[39;49m\u001B[38;5;241;43m.\u001B[39;49m\u001B[43m_sock\u001B[49m\u001B[38;5;241;43m.\u001B[39;49m\u001B[43mrecv_into\u001B[49m\u001B[43m(\u001B[49m\u001B[43mb\u001B[49m\u001B[43m)\u001B[49m\n\u001B[1;32m    706\u001B[0m     \u001B[38;5;28;01mexcept\u001B[39;00m timeout:\n\u001B[1;32m    707\u001B[0m         \u001B[38;5;28mself\u001B[39m\u001B[38;5;241m.\u001B[39m_timeout_occurred \u001B[38;5;241m=\u001B[39m \u001B[38;5;28;01mTrue\u001B[39;00m\n",
      "File \u001B[0;32m/Library/Frameworks/Python.framework/Versions/3.10/lib/python3.10/ssl.py:1274\u001B[0m, in \u001B[0;36mSSLSocket.recv_into\u001B[0;34m(self, buffer, nbytes, flags)\u001B[0m\n\u001B[1;32m   1270\u001B[0m     \u001B[38;5;28;01mif\u001B[39;00m flags \u001B[38;5;241m!=\u001B[39m \u001B[38;5;241m0\u001B[39m:\n\u001B[1;32m   1271\u001B[0m         \u001B[38;5;28;01mraise\u001B[39;00m \u001B[38;5;167;01mValueError\u001B[39;00m(\n\u001B[1;32m   1272\u001B[0m           \u001B[38;5;124m\"\u001B[39m\u001B[38;5;124mnon-zero flags not allowed in calls to recv_into() on \u001B[39m\u001B[38;5;132;01m%s\u001B[39;00m\u001B[38;5;124m\"\u001B[39m \u001B[38;5;241m%\u001B[39m\n\u001B[1;32m   1273\u001B[0m           \u001B[38;5;28mself\u001B[39m\u001B[38;5;241m.\u001B[39m\u001B[38;5;18m__class__\u001B[39m)\n\u001B[0;32m-> 1274\u001B[0m     \u001B[38;5;28;01mreturn\u001B[39;00m \u001B[38;5;28;43mself\u001B[39;49m\u001B[38;5;241;43m.\u001B[39;49m\u001B[43mread\u001B[49m\u001B[43m(\u001B[49m\u001B[43mnbytes\u001B[49m\u001B[43m,\u001B[49m\u001B[43m \u001B[49m\u001B[43mbuffer\u001B[49m\u001B[43m)\u001B[49m\n\u001B[1;32m   1275\u001B[0m \u001B[38;5;28;01melse\u001B[39;00m:\n\u001B[1;32m   1276\u001B[0m     \u001B[38;5;28;01mreturn\u001B[39;00m \u001B[38;5;28msuper\u001B[39m()\u001B[38;5;241m.\u001B[39mrecv_into(buffer, nbytes, flags)\n",
      "File \u001B[0;32m/Library/Frameworks/Python.framework/Versions/3.10/lib/python3.10/ssl.py:1130\u001B[0m, in \u001B[0;36mSSLSocket.read\u001B[0;34m(self, len, buffer)\u001B[0m\n\u001B[1;32m   1128\u001B[0m \u001B[38;5;28;01mtry\u001B[39;00m:\n\u001B[1;32m   1129\u001B[0m     \u001B[38;5;28;01mif\u001B[39;00m buffer \u001B[38;5;129;01mis\u001B[39;00m \u001B[38;5;129;01mnot\u001B[39;00m \u001B[38;5;28;01mNone\u001B[39;00m:\n\u001B[0;32m-> 1130\u001B[0m         \u001B[38;5;28;01mreturn\u001B[39;00m \u001B[38;5;28;43mself\u001B[39;49m\u001B[38;5;241;43m.\u001B[39;49m\u001B[43m_sslobj\u001B[49m\u001B[38;5;241;43m.\u001B[39;49m\u001B[43mread\u001B[49m\u001B[43m(\u001B[49m\u001B[38;5;28;43mlen\u001B[39;49m\u001B[43m,\u001B[49m\u001B[43m \u001B[49m\u001B[43mbuffer\u001B[49m\u001B[43m)\u001B[49m\n\u001B[1;32m   1131\u001B[0m     \u001B[38;5;28;01melse\u001B[39;00m:\n\u001B[1;32m   1132\u001B[0m         \u001B[38;5;28;01mreturn\u001B[39;00m \u001B[38;5;28mself\u001B[39m\u001B[38;5;241m.\u001B[39m_sslobj\u001B[38;5;241m.\u001B[39mread(\u001B[38;5;28mlen\u001B[39m)\n",
      "\u001B[0;31mKeyboardInterrupt\u001B[0m: "
     ]
    }
   ],
   "source": [
    "import requests\n",
    "import json\n",
    "import pandas as pd\n",
    "from collections import Counter\n",
    "import random\n",
    "\n",
    "API_KEY = \"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\"\n",
    "MODEL = \"deepseek/deepseek-r1:free\"\n",
    "\n",
    "def process_content(content):\n",
    "    # Очистка от тегов (если необходимо)\n",
    "    return content.replace('<think>', '').replace('</think>', '')\n",
    "\n",
    "def chat_stream(prompt):\n",
    "    headers = {\n",
    "        \"Authorization\": f\"Bearer {API_KEY}\",\n",
    "        \"Content-Type\": \"application/json\"\n",
    "    }\n",
    "\n",
    "    data = {\n",
    "        \"model\": MODEL,\n",
    "        \"messages\": [{\"role\": \"user\", \"content\": prompt}],\n",
    "        \"stream\": True\n",
    "    }\n",
    "\n",
    "    with requests.post(\n",
    "        \"https://openrouter.ai/api/v1/chat/completions\",\n",
    "        headers=headers,\n",
    "        json=data,\n",
    "        stream=True\n",
    "    ) as response:\n",
    "        if response.status_code != 200:\n",
    "            print(\"Ошибка API:\", response.status_code)\n",
    "            return \"\"\n",
    "\n",
    "        full_response = []\n",
    "\n",
    "        for chunk in response.iter_lines():\n",
    "            if chunk:\n",
    "                chunk_str = chunk.decode('utf-8').replace('data: ', '')\n",
    "                try:\n",
    "                    chunk_json = json.loads(chunk_str)\n",
    "                    if \"choices\" in chunk_json:\n",
    "                        content = chunk_json[\"choices\"][0][\"delta\"].get(\"content\", \"\")\n",
    "                        if content:\n",
    "                            cleaned = process_content(content)\n",
    "                            print(cleaned, end='', flush=True)\n",
    "                            full_response.append(cleaned)\n",
    "                except Exception as e:\n",
    "                    continue\n",
    "\n",
    "        print()\n",
    "        return ''.join(full_response)\n",
    "\n",
    "def main():\n",
    "    predictions = []\n",
    "\n",
    "    # Случайным образом перемешиваем индексы строк\n",
    "    random_indices = random.sample(range(len(data_choice)), min(80, len(data_choice)))\n",
    "\n",
    "    for i, row_idx in enumerate(random_indices):\n",
    "        data_choice_without_type = data_choice.drop(['type'], axis=1)\n",
    "        ecg_values = data_choice_without_type.loc[row_idx].tolist()\n",
    "        actual_type = data_choice.loc[row_idx, 'type']\n",
    "\n",
    "        # Формирование запроса (промпт) для отправки в API\n",
    "        prompt = (\n",
    "            f\"You are a highly specialized medical AI assistant, trained in cardiology with a focus on electrocardiogram (ECG) interpretation and arrhythmia classification. \"\n",
    "            f\"Your task is to analyze ECG features and determine the most likely heart rhythm category.\\n\\n\"\n",
    "\n",
    "            f\"The ECG Arrhythmia Classification Dataset you are working with is based on recordings from the MIT-BIH Arrhythmia database (via PhysioNet). \"\n",
    "            f\"Each sample includes features extracted from two ECG leads: Lead II and Lead V5. For each lead, 17 diagnostic features have been extracted, totaling 34 features per sample.\\n\\n\"\n",
    "\n",
    "            f\"The goal is to classify the heartbeat into one of the following rhythm classes:\\n\"\n",
    "            f\"- N: Normal rhythm\\n\"\n",
    "            f\"- SVEB: Supraventricular ectopic beat\\n\"\n",
    "            f\"- VEB: Ventricular ectopic beat\\n\"\n",
    "            f\"- F: Fusion beat\\n\"\n",
    "            f\"Features are organized into the following groups:\\n\"\n",
    "            f\"1. **RR Intervals**:\\n\"\n",
    "            f\"   - *Average RR*: Mean time between R peaks over a window\\n\"\n",
    "            f\"   - *RR*: Time between the current and previous R peaks\\n\"\n",
    "            f\"   - *Post RR*: Time between the current and next R peaks\\n\"\n",
    "            f\"2. **Heartbeat Interval Features**:\\n\"\n",
    "            f\"   - *PQ Interval*: Time between the start of the P wave and start of the QRS complex\\n\"\n",
    "            f\"   - *QT Interval*: Duration from the start of Q to the end of T wave\\n\"\n",
    "            f\"   - *ST Interval*: Time from end of QRS complex to end of T wave\\n\"\n",
    "            f\"   - *QRS Duration*: Duration of the QRS complex\\n\"\n",
    "            f\"3. **Heart Beats Amplitude Features**:\\n\"\n",
    "            f\"   - *P, Q, R, S, T peaks*: Amplitude of corresponding waveform peaks\\n\"\n",
    "            f\"4. **Morphology Features**:\\n\"\n",
    "            f\"   - *QRS morph features 0-4*: Represent shape and structure of the QRS complex in fine detail\\n\\n\"\n",
    "\n",
    "            f\"Based on the ECG feature values below, determine the most likely rhythm class. \"\n",
    "            f\"Return only the predicted class in the format: Answer: <class>\\n\\n\"\n",
    "            f\"ECG data:\\n{ecg_values}\"\n",
    "        )\n",
    "\n",
    "        print(f\"\\n\\n📍 Обрабатываем строку {i+1}/{len(random_indices)} (Исходный индекс: {row_idx}, Реальный тип: {actual_type}):\")\n",
    "        result = chat_stream(prompt)\n",
    "\n",
    "        if \"Answer:\" in result:\n",
    "            label = result.split(\"Answer:\")[-1].strip()\n",
    "        else:\n",
    "            label = \"unknown\"\n",
    "\n",
    "        predictions.append({\n",
    "            \"index\": row_idx,\n",
    "            \"actual_type\": actual_type,\n",
    "            \"prediction\": label,\n",
    "        })\n",
    "\n",
    "        if i == 99:  # Ограничиваем итерациями\n",
    "            break\n",
    "\n",
    "    class_counts = Counter([p[\"prediction\"] for p in predictions])\n",
    "    print(\"\\n\\n🔢 Статистика по предсказанным классам:\")\n",
    "    for label, count in class_counts.items():\n",
    "        print(f\"Класс {label}: {count} примеров\")\n",
    "\n",
    "    df_predictions = pd.DataFrame(predictions)\n",
    "    df_predictions.to_csv(\"predictions_random.csv\", index=False)\n",
    "    print(\"\\n💾 Результаты сохранены в predictions_random.csv\")\n",
    "\n",
    "if __name__ == \"__main__\":\n",
    "    main()\n"
   ],
   "metadata": {
    "collapsed": false,
    "ExecuteTime": {
     "end_time": "2025-05-04T12:10:16.701919Z",
     "start_time": "2025-05-04T12:06:43.454193Z"
    }
   }
  },
  {
   "cell_type": "code",
   "execution_count": 6,
   "outputs": [
    {
     "name": "stdout",
     "output_type": "stream",
     "text": [
      "              precision    recall  f1-score   support\n",
      "\n",
      "           F       0.00      0.00      0.00        13\n",
      "           N       0.50      0.47      0.48        15\n",
      "        SVEB       0.24      0.38      0.29        13\n",
      "         VEB       0.33      0.47      0.39        15\n",
      "\n",
      "    accuracy                           0.34        56\n",
      "   macro avg       0.27      0.33      0.29        56\n",
      "weighted avg       0.28      0.34      0.30        56\n",
      "\n"
     ]
    },
    {
     "name": "stderr",
     "output_type": "stream",
     "text": [
      "/Users/alexkulbyakov/PycharmProjects/pythonProjects/venv/lib/python3.10/site-packages/sklearn/metrics/_classification.py:1471: UndefinedMetricWarning: Precision and F-score are ill-defined and being set to 0.0 in labels with no predicted samples. Use `zero_division` parameter to control this behavior.\n",
      "  _warn_prf(average, modifier, msg_start, len(result))\n",
      "/Users/alexkulbyakov/PycharmProjects/pythonProjects/venv/lib/python3.10/site-packages/sklearn/metrics/_classification.py:1471: UndefinedMetricWarning: Precision and F-score are ill-defined and being set to 0.0 in labels with no predicted samples. Use `zero_division` parameter to control this behavior.\n",
      "  _warn_prf(average, modifier, msg_start, len(result))\n",
      "/Users/alexkulbyakov/PycharmProjects/pythonProjects/venv/lib/python3.10/site-packages/sklearn/metrics/_classification.py:1471: UndefinedMetricWarning: Precision and F-score are ill-defined and being set to 0.0 in labels with no predicted samples. Use `zero_division` parameter to control this behavior.\n",
      "  _warn_prf(average, modifier, msg_start, len(result))\n"
     ]
    }
   ],
   "source": [
    "import pandas as pd\n",
    "pred = pd.read_csv('Deep_seek.csv',sep=',')\n",
    "from sklearn.metrics import classification_report\n",
    "print(classification_report(pred['actual_type'],pred['prediction']))"
   ],
   "metadata": {
    "collapsed": false,
    "ExecuteTime": {
     "end_time": "2025-04-30T17:43:39.777884Z",
     "start_time": "2025-04-30T17:43:38.567889Z"
    }
   }
  }
 ],
 "metadata": {
  "kernelspec": {
   "display_name": "Python 3",
   "language": "python",
   "name": "python3"
  },
  "language_info": {
   "codemirror_mode": {
    "name": "ipython",
    "version": 2
   },
   "file_extension": ".py",
   "mimetype": "text/x-python",
   "name": "python",
   "nbconvert_exporter": "python",
   "pygments_lexer": "ipython2",
   "version": "2.7.6"
  }
 },
 "nbformat": 4,
 "nbformat_minor": 0
}
